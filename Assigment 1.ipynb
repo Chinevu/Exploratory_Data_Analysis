{
 "cells": [
  {
   "cell_type": "code",
   "execution_count": 150,
   "id": "02d90d5b",
   "metadata": {},
   "outputs": [],
   "source": [
    "import pandas as pd\n",
    "import seaborn as sns\n",
    "import numpy as np\n"
   ]
  },
  {
   "cell_type": "code",
   "execution_count": 151,
   "id": "05c38c32",
   "metadata": {},
   "outputs": [],
   "source": [
    "# Description of Dataset\n",
    "# The dataset contains data Dataset includes info about real estate objects in Moscow. \n",
    "#The following are a discription of the data\n",
    "# The data is from www.kaggle.com, the url is https://www.kaggle.com/timmofeyy/realestaterent\n",
    "\n",
    "# \"metro\": The nearest metro stationto to the apartment.\n",
    "# \"price\": The rent price for the apartment.\n",
    "#\"way\": A way to reach metro station (on foot or by public transport)\n",
    "#\"views\": The number of views for each apartment.\n",
    "#\"provider\": A person or agency who is renting apartment.\n",
    "#\"fee_percent\": Fee percent of an agency or realtor\n",
    "#\"storey\": tThe storey, where the apartment located.\n",
    "#\"minutes\": Minutes quantity to reach metro station\n",
    "#\"storey\": The total number of storeys in a building.\n",
    "\n"
   ]
  },
  {
   "cell_type": "code",
   "execution_count": 152,
   "id": "25f766b8",
   "metadata": {},
   "outputs": [],
   "source": [
    "data = pd.read_csv('move.csv')"
   ]
  },
  {
   "cell_type": "code",
   "execution_count": 153,
   "id": "f3fa7e35",
   "metadata": {},
   "outputs": [
    {
     "name": "stdout",
     "output_type": "stream",
     "text": [
      "<class 'pandas.core.frame.DataFrame'>\n",
      "RangeIndex: 1446 entries, 0 to 1445\n",
      "Data columns (total 13 columns):\n",
      " #   Column        Non-Null Count  Dtype \n",
      "---  ------        --------------  ----- \n",
      " 0   Unnamed: 0    1446 non-null   int64 \n",
      " 1   metro         1446 non-null   object\n",
      " 2   price         1446 non-null   int64 \n",
      " 3   way           1446 non-null   object\n",
      " 4   views         1446 non-null   int64 \n",
      " 5   provider      1446 non-null   object\n",
      " 6   fee_percent   1446 non-null   int64 \n",
      " 7   storey        1446 non-null   int64 \n",
      " 8   minutes       1446 non-null   int64 \n",
      " 9   storeys       1446 non-null   int64 \n",
      " 10  living_area   1446 non-null   int64 \n",
      " 11  kitchen_area  1446 non-null   int64 \n",
      " 12  total_area    1446 non-null   int64 \n",
      "dtypes: int64(10), object(3)\n",
      "memory usage: 147.0+ KB\n"
     ]
    }
   ],
   "source": [
    "#Exploratory Data Analysis\n",
    "#There is no noll value in the data\n",
    "data.info()"
   ]
  },
  {
   "cell_type": "code",
   "execution_count": 154,
   "id": "718f6cce",
   "metadata": {},
   "outputs": [
    {
     "data": {
      "text/html": [
       "<div>\n",
       "<style scoped>\n",
       "    .dataframe tbody tr th:only-of-type {\n",
       "        vertical-align: middle;\n",
       "    }\n",
       "\n",
       "    .dataframe tbody tr th {\n",
       "        vertical-align: top;\n",
       "    }\n",
       "\n",
       "    .dataframe thead th {\n",
       "        text-align: right;\n",
       "    }\n",
       "</style>\n",
       "<table border=\"1\" class=\"dataframe\">\n",
       "  <thead>\n",
       "    <tr style=\"text-align: right;\">\n",
       "      <th></th>\n",
       "      <th>Unnamed: 0</th>\n",
       "      <th>metro</th>\n",
       "      <th>price</th>\n",
       "      <th>way</th>\n",
       "      <th>views</th>\n",
       "      <th>provider</th>\n",
       "      <th>fee_percent</th>\n",
       "      <th>storey</th>\n",
       "      <th>minutes</th>\n",
       "      <th>storeys</th>\n",
       "      <th>living_area</th>\n",
       "      <th>kitchen_area</th>\n",
       "      <th>total_area</th>\n",
       "    </tr>\n",
       "  </thead>\n",
       "  <tbody>\n",
       "    <tr>\n",
       "      <th>0</th>\n",
       "      <td>0</td>\n",
       "      <td>Planernaia</td>\n",
       "      <td>45000</td>\n",
       "      <td>walk</td>\n",
       "      <td>513</td>\n",
       "      <td>realtor</td>\n",
       "      <td>50</td>\n",
       "      <td>7</td>\n",
       "      <td>10</td>\n",
       "      <td>12</td>\n",
       "      <td>19</td>\n",
       "      <td>8</td>\n",
       "      <td>38</td>\n",
       "    </tr>\n",
       "    <tr>\n",
       "      <th>1</th>\n",
       "      <td>1</td>\n",
       "      <td>VDNKh</td>\n",
       "      <td>50000</td>\n",
       "      <td>walk</td>\n",
       "      <td>389</td>\n",
       "      <td>realtor</td>\n",
       "      <td>50</td>\n",
       "      <td>16</td>\n",
       "      <td>10</td>\n",
       "      <td>16</td>\n",
       "      <td>18</td>\n",
       "      <td>8</td>\n",
       "      <td>41</td>\n",
       "    </tr>\n",
       "    <tr>\n",
       "      <th>2</th>\n",
       "      <td>2</td>\n",
       "      <td>Alekseevskaia</td>\n",
       "      <td>50000</td>\n",
       "      <td>walk</td>\n",
       "      <td>483</td>\n",
       "      <td>realtor</td>\n",
       "      <td>50</td>\n",
       "      <td>5</td>\n",
       "      <td>3</td>\n",
       "      <td>12</td>\n",
       "      <td>19</td>\n",
       "      <td>5</td>\n",
       "      <td>33</td>\n",
       "    </tr>\n",
       "    <tr>\n",
       "      <th>3</th>\n",
       "      <td>3</td>\n",
       "      <td>Sviblovo</td>\n",
       "      <td>38000</td>\n",
       "      <td>walk</td>\n",
       "      <td>414</td>\n",
       "      <td>realtor</td>\n",
       "      <td>50</td>\n",
       "      <td>3</td>\n",
       "      <td>15</td>\n",
       "      <td>5</td>\n",
       "      <td>37</td>\n",
       "      <td>37</td>\n",
       "      <td>37</td>\n",
       "    </tr>\n",
       "    <tr>\n",
       "      <th>4</th>\n",
       "      <td>4</td>\n",
       "      <td>Rimskaia</td>\n",
       "      <td>55999</td>\n",
       "      <td>walk</td>\n",
       "      <td>360</td>\n",
       "      <td>realtor</td>\n",
       "      <td>99</td>\n",
       "      <td>6</td>\n",
       "      <td>7</td>\n",
       "      <td>17</td>\n",
       "      <td>21</td>\n",
       "      <td>10</td>\n",
       "      <td>40</td>\n",
       "    </tr>\n",
       "  </tbody>\n",
       "</table>\n",
       "</div>"
      ],
      "text/plain": [
       "   Unnamed: 0            metro  price   way  views  \\\n",
       "0           0      Planernaia   45000  walk    513   \n",
       "1           1           VDNKh   50000  walk    389   \n",
       "2           2   Alekseevskaia   50000  walk    483   \n",
       "3           3        Sviblovo   38000  walk    414   \n",
       "4           4        Rimskaia   55999  walk    360   \n",
       "\n",
       "                      provider  fee_percent  storey  minutes  storeys  \\\n",
       "0  realtor                               50       7       10       12   \n",
       "1  realtor                               50      16       10       16   \n",
       "2  realtor                               50       5        3       12   \n",
       "3  realtor                               50       3       15        5   \n",
       "4  realtor                               99       6        7       17   \n",
       "\n",
       "   living_area  kitchen_area  total_area  \n",
       "0           19             8          38  \n",
       "1           18             8          41  \n",
       "2           19             5          33  \n",
       "3           37            37          37  \n",
       "4           21            10          40  "
      ]
     },
     "execution_count": 154,
     "metadata": {},
     "output_type": "execute_result"
    }
   ],
   "source": [
    "# The following are plans for data exploration\n",
    "#1. A visual exploration\n",
    "#2. Checking for null values\n",
    "#3. Checking and dealing with outliers\n",
    "#4. Checking and fixing typographical errors and also transalation issues\n",
    "\n",
    "#5. \n",
    "data.head()"
   ]
  },
  {
   "cell_type": "code",
   "execution_count": 155,
   "id": "568bb5ff",
   "metadata": {},
   "outputs": [
    {
     "data": {
      "text/html": [
       "<div>\n",
       "<style scoped>\n",
       "    .dataframe tbody tr th:only-of-type {\n",
       "        vertical-align: middle;\n",
       "    }\n",
       "\n",
       "    .dataframe tbody tr th {\n",
       "        vertical-align: top;\n",
       "    }\n",
       "\n",
       "    .dataframe thead th {\n",
       "        text-align: right;\n",
       "    }\n",
       "</style>\n",
       "<table border=\"1\" class=\"dataframe\">\n",
       "  <thead>\n",
       "    <tr style=\"text-align: right;\">\n",
       "      <th></th>\n",
       "      <th>metro</th>\n",
       "      <th>price</th>\n",
       "      <th>way</th>\n",
       "      <th>views</th>\n",
       "      <th>provider</th>\n",
       "      <th>fee_percent</th>\n",
       "      <th>storey</th>\n",
       "      <th>minutes</th>\n",
       "      <th>storeys</th>\n",
       "      <th>living_area</th>\n",
       "      <th>kitchen_area</th>\n",
       "      <th>total_area</th>\n",
       "    </tr>\n",
       "  </thead>\n",
       "  <tbody>\n",
       "    <tr>\n",
       "      <th>0</th>\n",
       "      <td>Planernaia</td>\n",
       "      <td>45000</td>\n",
       "      <td>walk</td>\n",
       "      <td>513</td>\n",
       "      <td>realtor</td>\n",
       "      <td>50</td>\n",
       "      <td>7</td>\n",
       "      <td>10</td>\n",
       "      <td>12</td>\n",
       "      <td>19</td>\n",
       "      <td>8</td>\n",
       "      <td>38</td>\n",
       "    </tr>\n",
       "    <tr>\n",
       "      <th>1</th>\n",
       "      <td>VDNKh</td>\n",
       "      <td>50000</td>\n",
       "      <td>walk</td>\n",
       "      <td>389</td>\n",
       "      <td>realtor</td>\n",
       "      <td>50</td>\n",
       "      <td>16</td>\n",
       "      <td>10</td>\n",
       "      <td>16</td>\n",
       "      <td>18</td>\n",
       "      <td>8</td>\n",
       "      <td>41</td>\n",
       "    </tr>\n",
       "    <tr>\n",
       "      <th>2</th>\n",
       "      <td>Alekseevskaia</td>\n",
       "      <td>50000</td>\n",
       "      <td>walk</td>\n",
       "      <td>483</td>\n",
       "      <td>realtor</td>\n",
       "      <td>50</td>\n",
       "      <td>5</td>\n",
       "      <td>3</td>\n",
       "      <td>12</td>\n",
       "      <td>19</td>\n",
       "      <td>5</td>\n",
       "      <td>33</td>\n",
       "    </tr>\n",
       "    <tr>\n",
       "      <th>3</th>\n",
       "      <td>Sviblovo</td>\n",
       "      <td>38000</td>\n",
       "      <td>walk</td>\n",
       "      <td>414</td>\n",
       "      <td>realtor</td>\n",
       "      <td>50</td>\n",
       "      <td>3</td>\n",
       "      <td>15</td>\n",
       "      <td>5</td>\n",
       "      <td>37</td>\n",
       "      <td>37</td>\n",
       "      <td>37</td>\n",
       "    </tr>\n",
       "    <tr>\n",
       "      <th>4</th>\n",
       "      <td>Rimskaia</td>\n",
       "      <td>55999</td>\n",
       "      <td>walk</td>\n",
       "      <td>360</td>\n",
       "      <td>realtor</td>\n",
       "      <td>99</td>\n",
       "      <td>6</td>\n",
       "      <td>7</td>\n",
       "      <td>17</td>\n",
       "      <td>21</td>\n",
       "      <td>10</td>\n",
       "      <td>40</td>\n",
       "    </tr>\n",
       "  </tbody>\n",
       "</table>\n",
       "</div>"
      ],
      "text/plain": [
       "             metro  price   way  views                     provider  \\\n",
       "0      Planernaia   45000  walk    513  realtor                       \n",
       "1           VDNKh   50000  walk    389  realtor                       \n",
       "2   Alekseevskaia   50000  walk    483  realtor                       \n",
       "3        Sviblovo   38000  walk    414  realtor                       \n",
       "4        Rimskaia   55999  walk    360  realtor                       \n",
       "\n",
       "   fee_percent  storey  minutes  storeys  living_area  kitchen_area  \\\n",
       "0           50       7       10       12           19             8   \n",
       "1           50      16       10       16           18             8   \n",
       "2           50       5        3       12           19             5   \n",
       "3           50       3       15        5           37            37   \n",
       "4           99       6        7       17           21            10   \n",
       "\n",
       "   total_area  \n",
       "0          38  \n",
       "1          41  \n",
       "2          33  \n",
       "3          37  \n",
       "4          40  "
      ]
     },
     "execution_count": 155,
     "metadata": {},
     "output_type": "execute_result"
    }
   ],
   "source": [
    "data_raw = data.copy()\n",
    "# This removes the unmaned column\n",
    "data.drop(data.columns[data.columns.str.contains('Unnamed', case = False)], axis = 1, inplace = True)\n",
    "data.head()\n"
   ]
  },
  {
   "cell_type": "code",
   "execution_count": 157,
   "id": "10a54f88",
   "metadata": {},
   "outputs": [
    {
     "data": {
      "text/html": [
       "<div>\n",
       "<style scoped>\n",
       "    .dataframe tbody tr th:only-of-type {\n",
       "        vertical-align: middle;\n",
       "    }\n",
       "\n",
       "    .dataframe tbody tr th {\n",
       "        vertical-align: top;\n",
       "    }\n",
       "\n",
       "    .dataframe thead th {\n",
       "        text-align: right;\n",
       "    }\n",
       "</style>\n",
       "<table border=\"1\" class=\"dataframe\">\n",
       "  <thead>\n",
       "    <tr style=\"text-align: right;\">\n",
       "      <th></th>\n",
       "      <th>price</th>\n",
       "      <th>views</th>\n",
       "      <th>fee_percent</th>\n",
       "      <th>storey</th>\n",
       "      <th>minutes</th>\n",
       "      <th>storeys</th>\n",
       "      <th>living_area</th>\n",
       "      <th>kitchen_area</th>\n",
       "      <th>total_area</th>\n",
       "    </tr>\n",
       "  </thead>\n",
       "  <tbody>\n",
       "    <tr>\n",
       "      <th>count</th>\n",
       "      <td>1446.000000</td>\n",
       "      <td>1446.000000</td>\n",
       "      <td>1446.000000</td>\n",
       "      <td>1446.000000</td>\n",
       "      <td>1446.000000</td>\n",
       "      <td>1446.000000</td>\n",
       "      <td>1446.000000</td>\n",
       "      <td>1446.000000</td>\n",
       "      <td>1446.000000</td>\n",
       "    </tr>\n",
       "    <tr>\n",
       "      <th>mean</th>\n",
       "      <td>43770.738589</td>\n",
       "      <td>417.917012</td>\n",
       "      <td>37.949516</td>\n",
       "      <td>7.089903</td>\n",
       "      <td>8.753804</td>\n",
       "      <td>22.545643</td>\n",
       "      <td>20.585754</td>\n",
       "      <td>11.369986</td>\n",
       "      <td>37.265560</td>\n",
       "    </tr>\n",
       "    <tr>\n",
       "      <th>std</th>\n",
       "      <td>33232.151532</td>\n",
       "      <td>936.532913</td>\n",
       "      <td>26.893347</td>\n",
       "      <td>16.511552</td>\n",
       "      <td>4.710759</td>\n",
       "      <td>347.279854</td>\n",
       "      <td>5.608993</td>\n",
       "      <td>8.083777</td>\n",
       "      <td>6.143386</td>\n",
       "    </tr>\n",
       "    <tr>\n",
       "      <th>min</th>\n",
       "      <td>14000.000000</td>\n",
       "      <td>4.000000</td>\n",
       "      <td>0.000000</td>\n",
       "      <td>1.000000</td>\n",
       "      <td>0.000000</td>\n",
       "      <td>1.000000</td>\n",
       "      <td>6.000000</td>\n",
       "      <td>3.000000</td>\n",
       "      <td>1.000000</td>\n",
       "    </tr>\n",
       "    <tr>\n",
       "      <th>25%</th>\n",
       "      <td>29000.000000</td>\n",
       "      <td>38.000000</td>\n",
       "      <td>0.000000</td>\n",
       "      <td>4.000000</td>\n",
       "      <td>5.000000</td>\n",
       "      <td>9.000000</td>\n",
       "      <td>18.000000</td>\n",
       "      <td>7.000000</td>\n",
       "      <td>34.000000</td>\n",
       "    </tr>\n",
       "    <tr>\n",
       "      <th>50%</th>\n",
       "      <td>38000.000000</td>\n",
       "      <td>103.000000</td>\n",
       "      <td>50.000000</td>\n",
       "      <td>6.000000</td>\n",
       "      <td>7.000000</td>\n",
       "      <td>12.000000</td>\n",
       "      <td>20.000000</td>\n",
       "      <td>10.000000</td>\n",
       "      <td>37.000000</td>\n",
       "    </tr>\n",
       "    <tr>\n",
       "      <th>75%</th>\n",
       "      <td>45000.000000</td>\n",
       "      <td>414.000000</td>\n",
       "      <td>50.000000</td>\n",
       "      <td>9.000000</td>\n",
       "      <td>12.000000</td>\n",
       "      <td>16.000000</td>\n",
       "      <td>21.000000</td>\n",
       "      <td>10.000000</td>\n",
       "      <td>40.000000</td>\n",
       "    </tr>\n",
       "    <tr>\n",
       "      <th>max</th>\n",
       "      <td>500000.000000</td>\n",
       "      <td>5174.000000</td>\n",
       "      <td>100.000000</td>\n",
       "      <td>613.000000</td>\n",
       "      <td>47.000000</td>\n",
       "      <td>13217.000000</td>\n",
       "      <td>37.000000</td>\n",
       "      <td>37.000000</td>\n",
       "      <td>57.000000</td>\n",
       "    </tr>\n",
       "  </tbody>\n",
       "</table>\n",
       "</div>"
      ],
      "text/plain": [
       "               price        views  fee_percent       storey      minutes  \\\n",
       "count    1446.000000  1446.000000  1446.000000  1446.000000  1446.000000   \n",
       "mean    43770.738589   417.917012    37.949516     7.089903     8.753804   \n",
       "std     33232.151532   936.532913    26.893347    16.511552     4.710759   \n",
       "min     14000.000000     4.000000     0.000000     1.000000     0.000000   \n",
       "25%     29000.000000    38.000000     0.000000     4.000000     5.000000   \n",
       "50%     38000.000000   103.000000    50.000000     6.000000     7.000000   \n",
       "75%     45000.000000   414.000000    50.000000     9.000000    12.000000   \n",
       "max    500000.000000  5174.000000   100.000000   613.000000    47.000000   \n",
       "\n",
       "            storeys  living_area  kitchen_area   total_area  \n",
       "count   1446.000000  1446.000000   1446.000000  1446.000000  \n",
       "mean      22.545643    20.585754     11.369986    37.265560  \n",
       "std      347.279854     5.608993      8.083777     6.143386  \n",
       "min        1.000000     6.000000      3.000000     1.000000  \n",
       "25%        9.000000    18.000000      7.000000    34.000000  \n",
       "50%       12.000000    20.000000     10.000000    37.000000  \n",
       "75%       16.000000    21.000000     10.000000    40.000000  \n",
       "max    13217.000000    37.000000     37.000000    57.000000  "
      ]
     },
     "execution_count": 157,
     "metadata": {},
     "output_type": "execute_result"
    }
   ],
   "source": [
    "# A description of the data to look for outliers\n",
    "data.describe()"
   ]
  },
  {
   "cell_type": "code",
   "execution_count": 156,
   "id": "2c4e7c4d",
   "metadata": {},
   "outputs": [
    {
     "data": {
      "text/plain": [
       "<AxesSubplot:>"
      ]
     },
     "execution_count": 156,
     "metadata": {},
     "output_type": "execute_result"
    },
    {
     "data": {
      "image/png": "[encoded data removed]",
      "text/plain": [
       "<Figure size 432x288 with 1 Axes>"
      ]
     },
     "metadata": {
      "needs_background": "light"
     },
     "output_type": "display_data"
    }
   ],
   "source": [
    "# A summary statistics may reveal some outliers. There are outliers in storey and storeys column. \n",
    "#Any storey or storeys value greater than 35  will be dropped\n",
    "# Let us plot a histogram for storey and storeys\n",
    "data['storey'].hist()\n"
   ]
  },
  {
   "cell_type": "code",
   "execution_count": null,
   "id": "983c9795",
   "metadata": {},
   "outputs": [],
   "source": []
  },
  {
   "cell_type": "code",
   "execution_count": 114,
   "id": "71032d5b",
   "metadata": {},
   "outputs": [],
   "source": [
    "data = data.loc[data['storey'] <= 35,:]\n",
    "data = data.loc[data['storeys'] <= 35,:]\n",
    "#Two rows of data were removed"
   ]
  },
  {
   "cell_type": "code",
   "execution_count": 158,
   "id": "11cf0106",
   "metadata": {},
   "outputs": [
    {
     "data": {
      "text/plain": [
       "metro           119\n",
       "price            62\n",
       "way               2\n",
       "views            93\n",
       "provider          7\n",
       "fee_percent      16\n",
       "storey           29\n",
       "minutes          27\n",
       "storeys          36\n",
       "living_area      25\n",
       "kitchen_area     18\n",
       "total_area       36\n",
       "dtype: int64"
      ]
     },
     "execution_count": 158,
     "metadata": {},
     "output_type": "execute_result"
    }
   ],
   "source": [
    "# Let me check the unique values while looking for error in spellings\n",
    "\n",
    "data.nunique()"
   ]
  },
  {
   "cell_type": "code",
   "execution_count": 116,
   "id": "337434b2",
   "metadata": {},
   "outputs": [
    {
     "data": {
      "text/plain": [
       "array([' Planernaia ', ' VDNKh ', ' Alekseevskaia ', ' Sviblovo ',\n",
       "       ' Rimskaia ', ' Perovo ', ' Nekrasovka ', ' Riazanskii prospekt ',\n",
       "       ' Medvedkovo ', ' Khovrino ', ' Okskaia ', ' Vystavochnaia ',\n",
       "       ' Otradnoe ', ' Kuntcevskaia ', ' Shabolovskaia ',\n",
       "       ' Dobryninskaia ', ' Paveletckaia ', ' Altufevo ', ' Tcaritcyno ',\n",
       "       ' Shchelkovskaia ', ' Skhodnenskaia ', ' Solntcevo ',\n",
       "       ' Ulitca Starokachalovskaia ', ' Zhulebino ',\n",
       "       ' Preobrazhenskaia ploshchad ', ' Rasskazovka ',\n",
       "       ' Buninskaia Alleia ', ' Fili ', ' Kommunarka ',\n",
       "       ' Lukhmanovskaia ', ' Teplyi Stan ', ' Prazhskaia ',\n",
       "       ' Filatov Lug ', ' Annino ', ' Beliaevo ', ' Liublino ',\n",
       "       ' Kuzminki ', ' Novye Cheremushki ', ' Marino ', ' Strogino ',\n",
       "       ' Salarevo ', ' Piatnitckoe shosse ', ' Izmailovskaia ',\n",
       "       ' Petrovsko-Razumovskaia ', ' Tekstilshchiki ', ' Novokosino ',\n",
       "       ' Ulitca Dmitrievskogo ', ' Nagornaia ', ' Dubrovka ',\n",
       "       ' Partizanskaia ', ' Bulvar Rokossovskogo ', ' Petrovskii park ',\n",
       "       ' Narodnoe Opolchenie ', ' Mitino ', ' Studencheskaia ',\n",
       "       ' Bulvar Admirala Ushakova ', ' Krasnogvardeiskaia ',\n",
       "       ' Kantemirovskaia ', ' Vodnyi stadion ', ' Kurskaia ',\n",
       "       ' Borisovo ', ' Tcvetnoi bulvar ', ' Elektrozavodskaia ',\n",
       "       ' Seligerskaia ', ' Rechnoi vokzal ', ' Prospekt Mira ',\n",
       "       ' Belorusskaia ', ' Prospekt Vernadskogo ', ' Bratislavskaia ',\n",
       "       ' Volzhskaia ', ' Kotelniki ', ' Okruzhnaia ', ' Krasnye vorota ',\n",
       "       ' Belomorskaia ', ' Nakhimovskii prospekt ', ' Spartak ',\n",
       "       ' Govorovo ', ' Iasenevo ', ' Tulskaia ', ' Krasnoselskaia ',\n",
       "       ' Vladykino ', ' Shelepikha ', ' Aviamotornaia ',\n",
       "       ' Marina Roshcha ', ' Proletarskaia ', ' Ploshchad Ilicha ',\n",
       "       ' Okhotnyi riad ', ' Ulitca 1905 goda ', ' Sukharevskaia ',\n",
       "       ' Taganskaia ', ' Botanicheskii sad ', ' Dmitrovskaia ',\n",
       "       ' Ozernaia ', ' Baumanskaia ', ' Dinamo ', ' Polianka ',\n",
       "       ' Sokolniki ', ' Lefortovo ', ' Akademicheskaia ', ' Pechatniki ',\n",
       "       ' Minskaia ', ' Universitet ', ' Butyrskaia ', ' Ramenki ',\n",
       "       ' Arbatskaia ', ' Bagrationovskaia ', ' Oktiabrskaia ',\n",
       "       ' Iugo-Zapadnaia ', ' Oktiabrskoe pole ', ' Chertanovskaia ',\n",
       "       ' Ziablikovo ', ' Novoperedelkino ', ' Kaluzhskaia ',\n",
       "       ' Timiriazevskaia ', ' Kievskaia '], dtype=object)"
      ]
     },
     "execution_count": 116,
     "metadata": {},
     "output_type": "execute_result"
    }
   ],
   "source": [
    "# For each column, I will then look at the unique values\n",
    "data['metro'].unique()\n"
   ]
  },
  {
   "cell_type": "code",
   "execution_count": 159,
   "id": "d57e5ec6",
   "metadata": {},
   "outputs": [],
   "source": [
    "#Everthing seems fine, apart from a value named --No Data--, this will be deleted\n",
    "data.drop(data.index[(data[\"metro\"] == \"No data\")],axis=0,inplace=True)"
   ]
  },
  {
   "cell_type": "code",
   "execution_count": 160,
   "id": "91eca37b",
   "metadata": {},
   "outputs": [
    {
     "data": {
      "text/plain": [
       "array(['realtor                \\xa0 \\xa0 ', 'owner                 ',\n",
       "       'realtor                 ',\n",
       "       'agency                \\xa0 \\xa0\\xa0 \\xa0 ',\n",
       "       'agency                 ', 'agency                \\xa0 \\xa0 ',\n",
       "       'Застройщик                 '], dtype=object)"
      ]
     },
     "execution_count": 160,
     "metadata": {},
     "output_type": "execute_result"
    }
   ],
   "source": [
    "data['provider'].unique()\n",
    "# These reveals some typo and also some russian spellings"
   ]
  },
  {
   "cell_type": "code",
   "execution_count": 161,
   "id": "45580578",
   "metadata": {},
   "outputs": [
    {
     "data": {
      "text/plain": [
       "array(['relator', 'owner', 'agency', 'developer'], dtype=object)"
      ]
     },
     "execution_count": 161,
     "metadata": {},
     "output_type": "execute_result"
    }
   ],
   "source": [
    "data['provider']= data.provider.str.replace('realtor                \\xa0 \\xa0','relator')\n",
    "data['provider']= data.provider.str.replace('realtor                 ','relator')\n",
    "data['provider']= data.provider.str.replace('agency                \\xa0 \\xa0\\xa0 \\xa0 ','agency')\n",
    "data['provider']= data.provider.str.replace('agency                 ','agency')\n",
    "data['provider']= data.provider.str.replace('Застройщик                 ','developer')\n",
    "data['provider']= data.provider.str.replace('relator ','relator')\n",
    "data['provider']= data.provider.str.replace('agency                \\xa0 \\xa0 ','agency')\n",
    "data['provider']= data.provider.str.replace('owner                 ','owner')\n",
    "data['provider'].unique()"
   ]
  },
  {
   "cell_type": "code",
   "execution_count": 162,
   "id": "987a3e0f",
   "metadata": {},
   "outputs": [
    {
     "data": {
      "text/plain": [
       "array(['walk', 'transport'], dtype=object)"
      ]
     },
     "execution_count": 162,
     "metadata": {},
     "output_type": "execute_result"
    }
   ],
   "source": [
    "# A visual inspection for typo in way column, everything looks fine\n",
    "data['way'].unique()"
   ]
  },
  {
   "cell_type": "code",
   "execution_count": 163,
   "id": "5358d5e8",
   "metadata": {},
   "outputs": [
    {
     "data": {
      "text/html": [
       "<div>\n",
       "<style scoped>\n",
       "    .dataframe tbody tr th:only-of-type {\n",
       "        vertical-align: middle;\n",
       "    }\n",
       "\n",
       "    .dataframe tbody tr th {\n",
       "        vertical-align: top;\n",
       "    }\n",
       "\n",
       "    .dataframe thead th {\n",
       "        text-align: right;\n",
       "    }\n",
       "</style>\n",
       "<table border=\"1\" class=\"dataframe\">\n",
       "  <thead>\n",
       "    <tr style=\"text-align: right;\">\n",
       "      <th></th>\n",
       "      <th>metro</th>\n",
       "      <th>way</th>\n",
       "      <th>views</th>\n",
       "      <th>provider</th>\n",
       "      <th>fee_percent</th>\n",
       "      <th>storey</th>\n",
       "      <th>minutes</th>\n",
       "      <th>storeys</th>\n",
       "      <th>living_area</th>\n",
       "      <th>kitchen_area</th>\n",
       "      <th>total_area</th>\n",
       "    </tr>\n",
       "  </thead>\n",
       "  <tbody>\n",
       "    <tr>\n",
       "      <th>0</th>\n",
       "      <td>Planernaia</td>\n",
       "      <td>walk</td>\n",
       "      <td>513</td>\n",
       "      <td>relator</td>\n",
       "      <td>50</td>\n",
       "      <td>7</td>\n",
       "      <td>10</td>\n",
       "      <td>12</td>\n",
       "      <td>19</td>\n",
       "      <td>8</td>\n",
       "      <td>38</td>\n",
       "    </tr>\n",
       "    <tr>\n",
       "      <th>1</th>\n",
       "      <td>VDNKh</td>\n",
       "      <td>walk</td>\n",
       "      <td>389</td>\n",
       "      <td>relator</td>\n",
       "      <td>50</td>\n",
       "      <td>16</td>\n",
       "      <td>10</td>\n",
       "      <td>16</td>\n",
       "      <td>18</td>\n",
       "      <td>8</td>\n",
       "      <td>41</td>\n",
       "    </tr>\n",
       "    <tr>\n",
       "      <th>2</th>\n",
       "      <td>Alekseevskaia</td>\n",
       "      <td>walk</td>\n",
       "      <td>483</td>\n",
       "      <td>relator</td>\n",
       "      <td>50</td>\n",
       "      <td>5</td>\n",
       "      <td>3</td>\n",
       "      <td>12</td>\n",
       "      <td>19</td>\n",
       "      <td>5</td>\n",
       "      <td>33</td>\n",
       "    </tr>\n",
       "    <tr>\n",
       "      <th>3</th>\n",
       "      <td>Sviblovo</td>\n",
       "      <td>walk</td>\n",
       "      <td>414</td>\n",
       "      <td>relator</td>\n",
       "      <td>50</td>\n",
       "      <td>3</td>\n",
       "      <td>15</td>\n",
       "      <td>5</td>\n",
       "      <td>37</td>\n",
       "      <td>37</td>\n",
       "      <td>37</td>\n",
       "    </tr>\n",
       "    <tr>\n",
       "      <th>4</th>\n",
       "      <td>Rimskaia</td>\n",
       "      <td>walk</td>\n",
       "      <td>360</td>\n",
       "      <td>relator</td>\n",
       "      <td>99</td>\n",
       "      <td>6</td>\n",
       "      <td>7</td>\n",
       "      <td>17</td>\n",
       "      <td>21</td>\n",
       "      <td>10</td>\n",
       "      <td>40</td>\n",
       "    </tr>\n",
       "  </tbody>\n",
       "</table>\n",
       "</div>"
      ],
      "text/plain": [
       "             metro   way  views provider  fee_percent  storey  minutes  \\\n",
       "0      Planernaia   walk    513  relator           50       7       10   \n",
       "1           VDNKh   walk    389  relator           50      16       10   \n",
       "2   Alekseevskaia   walk    483  relator           50       5        3   \n",
       "3        Sviblovo   walk    414  relator           50       3       15   \n",
       "4        Rimskaia   walk    360  relator           99       6        7   \n",
       "\n",
       "   storeys  living_area  kitchen_area  total_area  \n",
       "0       12           19             8          38  \n",
       "1       16           18             8          41  \n",
       "2       12           19             5          33  \n",
       "3        5           37            37          37  \n",
       "4       17           21            10          40  "
      ]
     },
     "execution_count": 163,
     "metadata": {},
     "output_type": "execute_result"
    }
   ],
   "source": [
    "# Separate features from target\n",
    "price = data['price'].copy()\n",
    "var_data = data.drop(columns=['price'])\n",
    "var_data.head()"
   ]
  },
  {
   "cell_type": "code",
   "execution_count": 164,
   "id": "ff5f3420",
   "metadata": {},
   "outputs": [
    {
     "data": {
      "text/plain": [
       "views            4.060967\n",
       "fee_percent      0.053198\n",
       "storey          33.988690\n",
       "minutes          1.161365\n",
       "storeys         37.518854\n",
       "living_area      1.749263\n",
       "kitchen_area     2.592403\n",
       "total_area      -0.644455\n",
       "dtype: float64"
      ]
     },
     "execution_count": 164,
     "metadata": {},
     "output_type": "execute_result"
    }
   ],
   "source": [
    "# For feature engineering\n",
    "#1. I adjusted the value for skew, that is using log to transform them into a normal distribution\n",
    "#2. I aslo converted non categorical variable to variables by using dummy variables\n",
    "\n",
    "# Checking for skew\n",
    "num_data = var_data.select_dtypes('number').columns\n",
    "skew_limit = 0.75\n",
    "skew_vals = var_data[num_data].skew()\n",
    "skew_vals"
   ]
  },
  {
   "cell_type": "code",
   "execution_count": 165,
   "id": "013d140f",
   "metadata": {},
   "outputs": [],
   "source": [
    "#Filter out skew columns\n",
    "skew_cols = skew_vals[abs(skew_vals)>skew_limit].sort_values(ascending=True)\n",
    "ss = skew_cols\n"
   ]
  },
  {
   "cell_type": "code",
   "execution_count": 166,
   "id": "c9a9a991",
   "metadata": {},
   "outputs": [],
   "source": [
    "#Applying log transformation\n",
    "tran_var_data = var_data\n",
    "for col in ss.index.values:\n",
    "    tran_var_data[col] = tran_var_data[col].apply(np.log1p)\n",
    "    \n"
   ]
  },
  {
   "cell_type": "code",
   "execution_count": 169,
   "id": "2cee8456",
   "metadata": {},
   "outputs": [
    {
     "data": {
      "text/plain": [
       "<AxesSubplot:>"
      ]
     },
     "execution_count": 169,
     "metadata": {},
     "output_type": "execute_result"
    },
    {
     "data": {
      "image/png": "[encoded data removed]",
      "text/plain": [
       "<Figure size 432x288 with 1 Axes>"
      ]
     },
     "metadata": {
      "needs_background": "light"
     },
     "output_type": "display_data"
    }
   ],
   "source": [
    "# Let us look at living_area before and after transformation\n",
    "# Before transformation\n",
    "data['living_area'].hist()"
   ]
  },
  {
   "cell_type": "code",
   "execution_count": 170,
   "id": "e44de3d2",
   "metadata": {},
   "outputs": [
    {
     "data": {
      "text/plain": [
       "<AxesSubplot:>"
      ]
     },
     "execution_count": 170,
     "metadata": {},
     "output_type": "execute_result"
    },
    {
     "data": {
      "image/png": "[encoded data removed]",
      "text/plain": [
       "<Figure size 432x288 with 1 Axes>"
      ]
     },
     "metadata": {
      "needs_background": "light"
     },
     "output_type": "display_data"
    }
   ],
   "source": [
    "#After transformation\n",
    "tran_var_data['living_area'].hist()"
   ]
  },
  {
   "cell_type": "code",
   "execution_count": null,
   "id": "d7424843",
   "metadata": {},
   "outputs": [],
   "source": []
  },
  {
   "cell_type": "code",
   "execution_count": 125,
   "id": "0911bc9f",
   "metadata": {},
   "outputs": [],
   "source": [
    "# Creating dummy variables for the non numeric colum\n",
    "metro_dummy = pd.get_dummies(data.metro)\n",
    "way_dummy = pd.get_dummies(data.way)\n",
    "provider_dummy= pd.get_dummies(data.provider)\n",
    "\n",
    "#Merging dummy variables with transformed data\n",
    "\n",
    "merged = pd.concat([tran_var_data,metro_dummy,way_dummy,provider_dummy], axis = 'columns')"
   ]
  },
  {
   "cell_type": "code",
   "execution_count": 134,
   "id": "d58f22f6",
   "metadata": {},
   "outputs": [
    {
     "data": {
      "text/html": [
       "<div>\n",
       "<style scoped>\n",
       "    .dataframe tbody tr th:only-of-type {\n",
       "        vertical-align: middle;\n",
       "    }\n",
       "\n",
       "    .dataframe tbody tr th {\n",
       "        vertical-align: top;\n",
       "    }\n",
       "\n",
       "    .dataframe thead th {\n",
       "        text-align: right;\n",
       "    }\n",
       "</style>\n",
       "<table border=\"1\" class=\"dataframe\">\n",
       "  <thead>\n",
       "    <tr style=\"text-align: right;\">\n",
       "      <th></th>\n",
       "      <th>metro</th>\n",
       "      <th>way</th>\n",
       "      <th>views</th>\n",
       "      <th>provider</th>\n",
       "      <th>fee_percent</th>\n",
       "      <th>storey</th>\n",
       "      <th>minutes</th>\n",
       "      <th>storeys</th>\n",
       "      <th>living_area</th>\n",
       "      <th>kitchen_area</th>\n",
       "      <th>...</th>\n",
       "      <th>Volzhskaia</th>\n",
       "      <th>Vystavochnaia</th>\n",
       "      <th>Zhulebino</th>\n",
       "      <th>Ziablikovo</th>\n",
       "      <th>transport</th>\n",
       "      <th>walk</th>\n",
       "      <th>agency</th>\n",
       "      <th>developer</th>\n",
       "      <th>owner</th>\n",
       "      <th>relator</th>\n",
       "    </tr>\n",
       "  </thead>\n",
       "  <tbody>\n",
       "    <tr>\n",
       "      <th>0</th>\n",
       "      <td>Planernaia</td>\n",
       "      <td>walk</td>\n",
       "      <td>6.242223</td>\n",
       "      <td>relator</td>\n",
       "      <td>50</td>\n",
       "      <td>2.079442</td>\n",
       "      <td>2.397895</td>\n",
       "      <td>2.564949</td>\n",
       "      <td>2.995732</td>\n",
       "      <td>2.197225</td>\n",
       "      <td>...</td>\n",
       "      <td>0</td>\n",
       "      <td>0</td>\n",
       "      <td>0</td>\n",
       "      <td>0</td>\n",
       "      <td>0</td>\n",
       "      <td>1</td>\n",
       "      <td>0</td>\n",
       "      <td>0</td>\n",
       "      <td>0</td>\n",
       "      <td>1</td>\n",
       "    </tr>\n",
       "    <tr>\n",
       "      <th>1</th>\n",
       "      <td>VDNKh</td>\n",
       "      <td>walk</td>\n",
       "      <td>5.966147</td>\n",
       "      <td>relator</td>\n",
       "      <td>50</td>\n",
       "      <td>2.833213</td>\n",
       "      <td>2.397895</td>\n",
       "      <td>2.833213</td>\n",
       "      <td>2.944439</td>\n",
       "      <td>2.197225</td>\n",
       "      <td>...</td>\n",
       "      <td>0</td>\n",
       "      <td>0</td>\n",
       "      <td>0</td>\n",
       "      <td>0</td>\n",
       "      <td>0</td>\n",
       "      <td>1</td>\n",
       "      <td>0</td>\n",
       "      <td>0</td>\n",
       "      <td>0</td>\n",
       "      <td>1</td>\n",
       "    </tr>\n",
       "    <tr>\n",
       "      <th>2</th>\n",
       "      <td>Alekseevskaia</td>\n",
       "      <td>walk</td>\n",
       "      <td>6.182085</td>\n",
       "      <td>relator</td>\n",
       "      <td>50</td>\n",
       "      <td>1.791759</td>\n",
       "      <td>1.386294</td>\n",
       "      <td>2.564949</td>\n",
       "      <td>2.995732</td>\n",
       "      <td>1.791759</td>\n",
       "      <td>...</td>\n",
       "      <td>0</td>\n",
       "      <td>0</td>\n",
       "      <td>0</td>\n",
       "      <td>0</td>\n",
       "      <td>0</td>\n",
       "      <td>1</td>\n",
       "      <td>0</td>\n",
       "      <td>0</td>\n",
       "      <td>0</td>\n",
       "      <td>1</td>\n",
       "    </tr>\n",
       "    <tr>\n",
       "      <th>3</th>\n",
       "      <td>Sviblovo</td>\n",
       "      <td>walk</td>\n",
       "      <td>6.028279</td>\n",
       "      <td>relator</td>\n",
       "      <td>50</td>\n",
       "      <td>1.386294</td>\n",
       "      <td>2.772589</td>\n",
       "      <td>1.791759</td>\n",
       "      <td>3.637586</td>\n",
       "      <td>3.637586</td>\n",
       "      <td>...</td>\n",
       "      <td>0</td>\n",
       "      <td>0</td>\n",
       "      <td>0</td>\n",
       "      <td>0</td>\n",
       "      <td>0</td>\n",
       "      <td>1</td>\n",
       "      <td>0</td>\n",
       "      <td>0</td>\n",
       "      <td>0</td>\n",
       "      <td>1</td>\n",
       "    </tr>\n",
       "    <tr>\n",
       "      <th>4</th>\n",
       "      <td>Rimskaia</td>\n",
       "      <td>walk</td>\n",
       "      <td>5.888878</td>\n",
       "      <td>relator</td>\n",
       "      <td>99</td>\n",
       "      <td>1.945910</td>\n",
       "      <td>2.079442</td>\n",
       "      <td>2.890372</td>\n",
       "      <td>3.091042</td>\n",
       "      <td>2.397895</td>\n",
       "      <td>...</td>\n",
       "      <td>0</td>\n",
       "      <td>0</td>\n",
       "      <td>0</td>\n",
       "      <td>0</td>\n",
       "      <td>0</td>\n",
       "      <td>1</td>\n",
       "      <td>0</td>\n",
       "      <td>0</td>\n",
       "      <td>0</td>\n",
       "      <td>1</td>\n",
       "    </tr>\n",
       "  </tbody>\n",
       "</table>\n",
       "<p>5 rows × 132 columns</p>\n",
       "</div>"
      ],
      "text/plain": [
       "             metro   way     views provider  fee_percent    storey   minutes  \\\n",
       "0      Planernaia   walk  6.242223  relator           50  2.079442  2.397895   \n",
       "1           VDNKh   walk  5.966147  relator           50  2.833213  2.397895   \n",
       "2   Alekseevskaia   walk  6.182085  relator           50  1.791759  1.386294   \n",
       "3        Sviblovo   walk  6.028279  relator           50  1.386294  2.772589   \n",
       "4        Rimskaia   walk  5.888878  relator           99  1.945910  2.079442   \n",
       "\n",
       "    storeys  living_area  kitchen_area  ...   Volzhskaia    Vystavochnaia   \\\n",
       "0  2.564949     2.995732      2.197225  ...             0                0   \n",
       "1  2.833213     2.944439      2.197225  ...             0                0   \n",
       "2  2.564949     2.995732      1.791759  ...             0                0   \n",
       "3  1.791759     3.637586      3.637586  ...             0                0   \n",
       "4  2.890372     3.091042      2.397895  ...             0                0   \n",
       "\n",
       "    Zhulebino    Ziablikovo   transport  walk  agency  developer  owner  \\\n",
       "0            0             0          0     1       0          0      0   \n",
       "1            0             0          0     1       0          0      0   \n",
       "2            0             0          0     1       0          0      0   \n",
       "3            0             0          0     1       0          0      0   \n",
       "4            0             0          0     1       0          0      0   \n",
       "\n",
       "   relator  \n",
       "0        1  \n",
       "1        1  \n",
       "2        1  \n",
       "3        1  \n",
       "4        1  \n",
       "\n",
       "[5 rows x 132 columns]"
      ]
     },
     "execution_count": 134,
     "metadata": {},
     "output_type": "execute_result"
    }
   ],
   "source": [
    "merged.head()\n",
    "# A visual view of the data"
   ]
  },
  {
   "cell_type": "code",
   "execution_count": 142,
   "id": "849c33f6",
   "metadata": {},
   "outputs": [],
   "source": [
    "#Dropping categorical data \n",
    "aa = merged\n",
    "final = aa.drop(['metro','way','provider'], axis = 'columns')\n"
   ]
  },
  {
   "cell_type": "code",
   "execution_count": 171,
   "id": "97f5cdf3",
   "metadata": {},
   "outputs": [],
   "source": [
    "# Formulating three hypothesis for this data\n",
    "#1. The price of a house is normally distributed\n",
    "#2. There is a correlation between the price of a house and the space of the living area\n",
    "#3. There is a 50% chance that the provider is a relator\n",
    "\n",
    "# I will test hypothesis 1\n",
    "\n",
    "#First let me start with a plot\n"
   ]
  },
  {
   "cell_type": "code",
   "execution_count": 147,
   "id": "318a61c6",
   "metadata": {},
   "outputs": [
    {
     "data": {
      "text/plain": [
       "<AxesSubplot:>"
      ]
     },
     "execution_count": 147,
     "metadata": {},
     "output_type": "execute_result"
    },
    {
     "data": {
      "image/png": "[encoded data removed]",
      "text/plain": [
       "<Figure size 432x288 with 1 Axes>"
      ]
     },
     "metadata": {
      "needs_background": "light"
     },
     "output_type": "display_data"
    }
   ],
   "source": [
    "price.hist()"
   ]
  },
  {
   "cell_type": "code",
   "execution_count": 149,
   "id": "e0f8593c",
   "metadata": {},
   "outputs": [
    {
     "name": "stdout",
     "output_type": "stream",
     "text": [
      "stat = 1712.4456333485, p = 0.0000000000\n",
      "Not normally distrubted\n"
     ]
    }
   ],
   "source": [
    "# A plot shows that the distribution is not normal. For futher testing I will do a normality testing\n",
    "\n",
    "from scipy.stats import normaltest\n",
    "stat, p = normaltest(price)\n",
    "print('stat = %.10f, p = %.10f' %(stat,p))\n",
    "\n",
    "# The cut off is 0.05\n",
    "if p > 0.05:\n",
    "    print ('Normal')\n",
    "else:\n",
    "    print ('Not normally distrubted')\n",
    "\n"
   ]
  },
  {
   "cell_type": "code",
   "execution_count": null,
   "id": "0cdb6370",
   "metadata": {},
   "outputs": [],
   "source": [
    "# Suggestion for next steps\n",
    "#1. A ploynomial transformation could be checked and applied to the variables\n",
    "#2. The data could be split, one for training and the other for testing\n",
    "\n",
    "#Summary of the quality of the data\n",
    "# The data is relatively small, it looks like some form of cleaning has been done. There were no null values.\n",
    "# Additional data could be provided by collecting more recent data and also getting data from other cities"
   ]
  }
 ],
 "metadata": {
  "kernelspec": {
   "display_name": "Python 3 (ipykernel)",
   "language": "python",
   "name": "python3"
  },
  "language_info": {
   "codemirror_mode": {
    "name": "ipython",
    "version": 3
   },
   "file_extension": ".py",
   "mimetype": "text/x-python",
   "name": "python",
   "nbconvert_exporter": "python",
   "pygments_lexer": "ipython3",
   "version": "3.9.7"
  }
 },
 "nbformat": 4,
 "nbformat_minor": 5
}
